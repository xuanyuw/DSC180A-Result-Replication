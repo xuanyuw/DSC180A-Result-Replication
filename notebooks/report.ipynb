{
 "metadata": {
  "language_info": {
   "codemirror_mode": {
    "name": "ipython",
    "version": 3
   },
   "file_extension": ".py",
   "mimetype": "text/x-python",
   "name": "python",
   "nbconvert_exporter": "python",
   "pygments_lexer": "ipython3",
   "version": "3.7.6-final"
  },
  "orig_nbformat": 2,
  "kernelspec": {
   "name": "Python 3.7.6 64-bit ('base': conda)",
   "display_name": "Python 3.7.6 64-bit ('base': conda)",
   "metadata": {
    "interpreter": {
     "hash": "9df88a1155bb0756c233f2652dcbb56dec1b11a901a8828f2997a391e57cd4ea"
    }
   }
  }
 },
 "nbformat": 4,
 "nbformat_minor": 2,
 "cells": [
  {
   "cell_type": "code",
   "execution_count": 1,
   "metadata": {},
   "outputs": [],
   "source": [
    "import matplotlib.pyplot as pyplot\n",
    "import pandas as pd \n",
    "import sys"
   ]
  },
  {
   "cell_type": "code",
   "execution_count": 4,
   "metadata": {},
   "outputs": [],
   "source": [
    "sys.path.insert(0, '../src/data')\n",
    "sys.path.insert(0, '../src/analysis')\n",
    "sys.path.insert(0, '../src/model')   \n",
    "\n",
    "import analysis\n",
    "import get_data\n",
    "import model"
   ]
  },
  {
   "source": [
    "# Dummy Project"
   ],
   "cell_type": "markdown",
   "metadata": {}
  },
  {
   "source": [
    "## Part 1: Data Cleaning\n",
    "This part cleans the data"
   ],
   "cell_type": "markdown",
   "metadata": {}
  },
  {
   "source": [
    "# code here"
   ],
   "cell_type": "code",
   "metadata": {},
   "execution_count": null,
   "outputs": []
  },
  {
   "source": [
    "## Part 2: EDA\n",
    "This part does EDA.\n",
    "\n",
    "Here is the plot"
   ],
   "cell_type": "markdown",
   "metadata": {}
  },
  {
   "cell_type": "code",
   "execution_count": null,
   "metadata": {},
   "outputs": [],
   "source": [
    "# code, tables, and plots here"
   ]
  },
  {
   "source": [
    "## Part 3: Training the model\n",
    "\n",
    "This part demonstrates the model trainig process.\n"
   ],
   "cell_type": "markdown",
   "metadata": {}
  },
  {
   "cell_type": "code",
   "execution_count": null,
   "metadata": {},
   "outputs": [],
   "source": [
    "# code, tables, and plots (if needed) here"
   ]
  },
  {
   "source": [
    "## Part 4: Results\n",
    "\n",
    "This part interpretes the Results"
   ],
   "cell_type": "markdown",
   "metadata": {}
  },
  {
   "cell_type": "code",
   "execution_count": null,
   "metadata": {},
   "outputs": [],
   "source": [
    "# code, tables, and plots here"
   ]
  }
 ]
}