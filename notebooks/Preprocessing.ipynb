{
 "cells": [
  {
   "cell_type": "markdown",
   "metadata": {},
   "source": [
    "# Preprocessing Steps"
   ]
  },
  {
   "cell_type": "markdown",
   "metadata": {},
   "source": [
    "UCSD DSC180A FA20\n",
    "\n",
    "Brandon Tsui\n",
    "\n",
    "Xuanyu Wu"
   ]
  },
  {
   "cell_type": "markdown",
   "metadata": {},
   "source": [
    "**Purpose of this notebook:** This notebook contains the details of the preprocessing steps of this result replication project. "
   ]
  },
  {
   "cell_type": "markdown",
   "metadata": {},
   "source": [
    "## 1. Initial quality check "
   ]
  },
  {
   "cell_type": "markdown",
   "metadata": {},
   "source": [
    "In this step, we mainly look for whether the fastq files contain any adapters that may give us biased results infuture analysis steps. So, we run FastQc on our test dataset and check the outputs. If we find adapters in the sequence file, then we will feed the file into cutadapt to remove them.\n",
    "\n",
    "A sample output of FastQc ran on a file without adapters looks like this:"
   ]
  },
  {
   "cell_type": "code",
   "execution_count": 1,
   "metadata": {},
   "outputs": [
    {
     "data": {
      "image/png": "[encoded data removed]",
      "text/plain": [
       "<PIL.PngImagePlugin.PngImageFile image mode=RGB size=800x600 at 0x7F0FF509D3D0>"
      ]
     },
     "metadata": {},
     "output_type": "display_data"
    }
   ],
   "source": [
    "import zipfile\n",
    "from PIL import Image\n",
    "from io import BytesIO\n",
    "from IPython.display import display\n",
    "\n",
    "report = '../data/tmp/reports/SRR3438555_1_fastqc.zip'\n",
    "with zipfile.ZipFile(report, 'r') as zipObj:\n",
    "    img = BytesIO(zipObj.read('SRR3438555_1_fastqc/Images/adapter_content.png'))\n",
    "    im = Image.open(img)\n",
    "    display(im)"
   ]
  },
  {
   "cell_type": "markdown",
   "metadata": {},
   "source": [
    "In the summary text file produced by FastQc, we can quickly check if the a file passes the adapter content. "
   ]
  },
  {
   "cell_type": "code",
   "execution_count": 2,
   "metadata": {},
   "outputs": [
    {
     "name": "stdout",
     "output_type": "stream",
     "text": [
      "PASS\tAdapter Content\tSRR3438555_1.fastq.gz\n",
      "\n",
      "PASS\tAdapter Content\tSRR3438555_2.fastq.gz\n",
      "\n",
      "PASS\tAdapter Content\tSRR3438556_1.fastq.gz\n",
      "\n",
      "PASS\tAdapter Content\tSRR3438556_2.fastq.gz\n",
      "\n",
      "PASS\tAdapter Content\tSRR3438557_1.fastq.gz\n",
      "\n",
      "PASS\tAdapter Content\tSRR3438557_2.fastq.gz\n",
      "\n",
      "PASS\tAdapter Content\tSRR3438558_1.fastq.gz\n",
      "\n",
      "PASS\tAdapter Content\tSRR3438558_2.fastq.gz\n",
      "\n",
      "PASS\tAdapter Content\tSRR3438559_1.fastq.gz\n",
      "\n",
      "PASS\tAdapter Content\tSRR3438559_2.fastq.gz\n",
      "\n",
      "PASS\tAdapter Content\tSRR3438560_1.fastq.gz\n",
      "\n",
      "PASS\tAdapter Content\tSRR3438560_2.fastq.gz\n",
      "\n",
      "PASS\tAdapter Content\tSRR3438561_1.fastq.gz\n",
      "\n",
      "PASS\tAdapter Content\tSRR3438561_2.fastq.gz\n",
      "\n",
      "PASS\tAdapter Content\tSRR3438562_1.fastq.gz\n",
      "\n",
      "PASS\tAdapter Content\tSRR3438562_2.fastq.gz\n",
      "\n",
      "PASS\tAdapter Content\tSRR3438563_1.fastq.gz\n",
      "\n",
      "PASS\tAdapter Content\tSRR3438563_2.fastq.gz\n",
      "\n",
      "PASS\tAdapter Content\tSRR3438564_1.fastq.gz\n",
      "\n",
      "PASS\tAdapter Content\tSRR3438564_2.fastq.gz\n",
      "\n"
     ]
    }
   ],
   "source": [
    "import re\n",
    "import glob\n",
    "import pandas as pd\n",
    "report_path = '../data/tmp/reports'\n",
    "all_zip = sorted(glob.glob(report_path+'/*.zip'))\n",
    "for z in all_zip:\n",
    "    f_name = re.findall('reports/(.*)\\.zip', z)[0]\n",
    "    with zipfile.ZipFile(z, 'r') as zipObj:\n",
    "        with zipObj.open(f_name+'/summary.txt') as f:\n",
    "            adapter = f.readlines()[9]\n",
    "            print(adapter.decode('utf-8'))"
   ]
  },
  {
   "cell_type": "markdown",
   "metadata": {},
   "source": [
    "## 2. Cutadapt"
   ]
  },
  {
   "cell_type": "markdown",
   "metadata": {},
   "source": [
    "In this step, we will cut out the adapter content out of the files that did not pass the initial quality check. Since all the sample files we chose do not have adapters, we will reserve this part for future use."
   ]
  }
 ],
 "metadata": {
  "kernelspec": {
   "display_name": "Python 3",
   "language": "python",
   "name": "python3"
  },
  "language_info": {
   "codemirror_mode": {
    "name": "ipython",
    "version": 3
   },
   "file_extension": ".py",
   "mimetype": "text/x-python",
   "name": "python",
   "nbconvert_exporter": "python",
   "pygments_lexer": "ipython3",
   "version": "3.7.6"
  }
 },
 "nbformat": 4,
 "nbformat_minor": 4
}
