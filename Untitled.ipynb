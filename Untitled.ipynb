{
 "cells": [
  {
   "cell_type": "code",
   "execution_count": 6,
   "metadata": {},
   "outputs": [
    {
     "name": "stdout",
     "output_type": "stream",
     "text": [
      "./src/data/run_fastqc.sh /datasets/srp073813/ 1 ./data/tmp/reports/\n"
     ]
    }
   ],
   "source": [
    "import os\n",
    "import glob\n",
    "input_path = \"/datasets/srp073813/\"\n",
    "test_size = 1\n",
    "report_path = \"./data/tmp/reports/\"\n",
    "command = \"./src/data/run_fastqc.sh %s %d %s\" %(input_path, test_size, report_path)\n",
    "print(command)\n",
    "#os.system(\"./src/data/run_fastqc.sh %s %d %s\" %(input_path, test_size, report_path) )"
   ]
  },
  {
   "cell_type": "code",
   "execution_count": 55,
   "metadata": {},
   "outputs": [
    {
     "name": "stdout",
     "output_type": "stream",
     "text": [
      "b'PASS\\tAdapter Content\\tSRR3438555_1.fastq.gz\\n'\n",
      "b'PASS\\tAdapter Content\\tSRR3438555_2.fastq.gz\\n'\n",
      "b'PASS\\tAdapter Content\\tSRR3438556_1.fastq.gz\\n'\n",
      "b'PASS\\tAdapter Content\\tSRR3438556_2.fastq.gz\\n'\n",
      "b'PASS\\tAdapter Content\\tSRR3438557_1.fastq.gz\\n'\n",
      "b'PASS\\tAdapter Content\\tSRR3438557_2.fastq.gz\\n'\n",
      "b'PASS\\tAdapter Content\\tSRR3438558_1.fastq.gz\\n'\n",
      "b'PASS\\tAdapter Content\\tSRR3438558_2.fastq.gz\\n'\n",
      "b'PASS\\tAdapter Content\\tSRR3438559_1.fastq.gz\\n'\n",
      "b'PASS\\tAdapter Content\\tSRR3438559_2.fastq.gz\\n'\n",
      "b'PASS\\tAdapter Content\\tSRR3438560_1.fastq.gz\\n'\n",
      "b'PASS\\tAdapter Content\\tSRR3438560_2.fastq.gz\\n'\n",
      "b'PASS\\tAdapter Content\\tSRR3438561_1.fastq.gz\\n'\n",
      "b'PASS\\tAdapter Content\\tSRR3438561_2.fastq.gz\\n'\n",
      "b'PASS\\tAdapter Content\\tSRR3438562_1.fastq.gz\\n'\n",
      "b'PASS\\tAdapter Content\\tSRR3438562_2.fastq.gz\\n'\n",
      "b'PASS\\tAdapter Content\\tSRR3438563_1.fastq.gz\\n'\n",
      "b'PASS\\tAdapter Content\\tSRR3438563_2.fastq.gz\\n'\n",
      "b'PASS\\tAdapter Content\\tSRR3438564_1.fastq.gz\\n'\n",
      "b'PASS\\tAdapter Content\\tSRR3438564_2.fastq.gz\\n'\n"
     ]
    }
   ],
   "source": [
    "import zipfile\n",
    "import re\n",
    "tmp_path = './src/data/tmp'\n",
    "all_zip = sorted(glob.glob(tmp_path+'/*.zip'))\n",
    "for z in all_zip:\n",
    "    f_name = re.findall('tmp/(.*)\\.zip', z)[0]\n",
    "    with zipfile.ZipFile(z, 'r') as zipObj:\n",
    "        with zipObj.open(f_name+'/summary.txt') as f:\n",
    "            adapter = f.readlines()[9]\n",
    "            if adapter[:4] != b'PASS':\n",
    "                #cutadapt operations\n",
    "                pass\n",
    "        \n",
    "        \n"
   ]
  },
  {
   "cell_type": "code",
   "execution_count": 63,
   "metadata": {
    "scrolled": true
   },
   "outputs": [
    {
     "name": "stdout",
     "output_type": "stream",
     "text": [
      "True\n"
     ]
    }
   ],
   "source": [
    "print(adapter[:4] == b'PASS')"
   ]
  },
  {
   "cell_type": "code",
   "execution_count": 54,
   "metadata": {},
   "outputs": [
    {
     "data": {
      "text/plain": [
       "['SRR3438555_1_fastqc']"
      ]
     },
     "execution_count": 54,
     "metadata": {},
     "output_type": "execute_result"
    }
   ],
   "source": [
    "t = 'src/data/tmp/SRR3438555_1_fastqc.zip'\n",
    "\n",
    "re.findall('tmp/(.*)\\.zip', t)"
   ]
  },
  {
   "cell_type": "code",
   "execution_count": 5,
   "metadata": {},
   "outputs": [
    {
     "data": {
      "text/plain": [
       "0"
      ]
     },
     "execution_count": 5,
     "metadata": {},
     "output_type": "execute_result"
    }
   ],
   "source": [
    "import os\n",
    "os.system(\"/opt/FastQC/fastqc '/datasets/srp073813/SRR3438555_1.fastq.gz' -o './src/data/tmp'\")\n",
    "os.system(\"/opt/FastQC/fastqc '/datasets/srp073813/SRR3438555_2.fastq.gz' -o './src/data/tmp'\")"
   ]
  },
  {
   "cell_type": "code",
   "execution_count": 46,
   "metadata": {},
   "outputs": [
    {
     "data": {
      "text/plain": [
       "['src/data/tmp/SRR3438559_1_fastqc.zip',\n",
       " 'src/data/tmp/SRR3438558_1_fastqc.zip',\n",
       " 'src/data/tmp/SRR3438563_2_fastqc.zip',\n",
       " 'src/data/tmp/SRR3438555_1_fastqc.zip',\n",
       " 'src/data/tmp/SRR3438562_2_fastqc.zip',\n",
       " 'src/data/tmp/SRR3438557_1_fastqc.zip',\n",
       " 'src/data/tmp/SRR3438560_2_fastqc.zip',\n",
       " 'src/data/tmp/SRR3438561_2_fastqc.zip',\n",
       " 'src/data/tmp/SRR3438556_1_fastqc.zip',\n",
       " 'src/data/tmp/SRR3438564_2_fastqc.zip',\n",
       " 'src/data/tmp/SRR3438559_2_fastqc.zip',\n",
       " 'src/data/tmp/SRR3438558_2_fastqc.zip',\n",
       " 'src/data/tmp/SRR3438564_1_fastqc.zip',\n",
       " 'src/data/tmp/SRR3438563_1_fastqc.zip',\n",
       " 'src/data/tmp/SRR3438562_1_fastqc.zip',\n",
       " 'src/data/tmp/SRR3438555_2_fastqc.zip',\n",
       " 'src/data/tmp/SRR3438560_1_fastqc.zip',\n",
       " 'src/data/tmp/SRR3438557_2_fastqc.zip',\n",
       " 'src/data/tmp/SRR3438556_2_fastqc.zip',\n",
       " 'src/data/tmp/SRR3438561_1_fastqc.zip']"
      ]
     },
     "execution_count": 46,
     "metadata": {},
     "output_type": "execute_result"
    }
   ],
   "source": [
    "glob.glob('src/data/tmp/*.zip')"
   ]
  },
  {
   "cell_type": "code",
   "execution_count": null,
   "metadata": {},
   "outputs": [],
   "source": [
    "import glob\n",
    "import os\n",
    "import re\n",
    "\n",
    "input_path = \"/datasets/srp073813/\"\n",
    "quant_path = \"./data/tmp/quant\"\n",
    "transcripts = \"/datasets/srp073813/reference/kallisto_transcripts.idx\"\n",
    "bootstrap = 100\n",
    "test_size = 20\n",
    "\n",
    "all_files = sorted(glob.glob(input_path + \"/*.fastq.gz\"))\n",
    "if test_size == None:\n",
    "    test_size = len(all_files)\n",
    "for i in range(0, test_size, 2):\n",
    "    folder = quant_path + '/' + re.findall('srp073813/(.*)\\_', all_files[i])[0]\n",
    "    command = \"/opt/kallisto_linux-v0.42.4/kallisto quant -i %s -o %s -b %d %s %s\" \\\n",
    "                    % (transcripts, folder, bootstrap, all_files[i], all_files[i+1])\n",
    "    os.system(\"mkdir -p %s\" %quant_path)\n",
    "    os.system(command)"
   ]
  },
  {
   "cell_type": "code",
   "execution_count": 38,
   "metadata": {},
   "outputs": [
    {
     "data": {
      "text/plain": [
       "Text(0.5, 0.98, 'histogram of estimated count in SRR3438556 (log scale)')"
      ]
     },
     "execution_count": 38,
     "metadata": {},
     "output_type": "execute_result"
    },
    {
     "data": {
      "image/png": "[encoded data removed]",
      "text/plain": [
       "<Figure size 432x288 with 1 Axes>"
      ]
     },
     "metadata": {
      "needs_background": "light"
     },
     "output_type": "display_data"
    }
   ],
   "source": [
    "import pandas as pd\n",
    "import numpy as np\n",
    "import matplotlib.pyplot as plt\n",
    "file_p = './data/tmp/quant/SRR3438556/abundance.tsv'\n",
    "df = pd.read_table(file_p)\n",
    "cnts = df[df['est_counts'] != 0][['est_counts']]\n",
    "#log_cnts = np.log2(cnts)\n",
    "cnts.plot.hist(bins=100, log=True)\n",
    "plt.suptitle('histogram of estimated count in SRR3438556 (log scale)')"
   ]
  },
  {
   "cell_type": "code",
   "execution_count": 37,
   "metadata": {},
   "outputs": [
    {
     "data": {
      "text/plain": [
       "<matplotlib.axes._subplots.AxesSubplot at 0x7fa063e06ed0>"
      ]
     },
     "execution_count": 37,
     "metadata": {},
     "output_type": "execute_result"
    },
    {
     "data": {
      "image/png": "[encoded data removed]",
      "text/plain": [
       "<Figure size 432x288 with 1 Axes>"
      ]
     },
     "metadata": {
      "needs_background": "light"
     },
     "output_type": "display_data"
    }
   ],
   "source": [
    "file_p = './data/tmp/quant/SRR3438556/abundance.tsv'\n",
    "df = pd.read_table(file_p)\n",
    "cnts = df[df['est_counts'] != 0][['est_counts']]\n",
    "#log_cnts = np.log2(cnts)\n",
    "cnts.plot.hist(bins=100, log=True)"
   ]
  },
  {
   "cell_type": "code",
   "execution_count": null,
   "metadata": {},
   "outputs": [],
   "source": [
    "import glob"
   ]
  }
 ],
 "metadata": {
  "kernelspec": {
   "display_name": "Python 3",
   "language": "python",
   "name": "python3"
  },
  "language_info": {
   "codemirror_mode": {
    "name": "ipython",
    "version": 3
   },
   "file_extension": ".py",
   "mimetype": "text/x-python",
   "name": "python",
   "nbconvert_exporter": "python",
   "pygments_lexer": "ipython3",
   "version": "3.7.6"
  }
 },
 "nbformat": 4,
 "nbformat_minor": 4
}
